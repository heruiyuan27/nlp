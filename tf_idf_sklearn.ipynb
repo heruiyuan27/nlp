{
 "cells": [
  {
   "cell_type": "code",
   "execution_count": 1,
   "metadata": {},
   "outputs": [],
   "source": [
    "from sklearn.feature_extraction.text import TfidfVectorizer\n",
    "from sklearn.metrics.pairwise import cosine_similarity\n",
    "from visual import show_tfidf   # this refers to visual.py in my [repo](https://github.com/MorvanZhou/NLP-Tutorials/)"
   ]
  },
  {
   "cell_type": "code",
   "execution_count": 2,
   "metadata": {},
   "outputs": [],
   "source": [
    "docs = [\n",
    "    \"it is a good day, I like to stay here\",\n",
    "    \"I am happy to be here\",\n",
    "    \"I am bob\",\n",
    "    \"it is sunny today\",\n",
    "    \"I have a party today\",\n",
    "    \"it is a dog and that is a cat\",\n",
    "    \"there are dog and cat on the tree\",\n",
    "    \"I study hard this morning\",\n",
    "    \"today is a good day\",\n",
    "    \"tomorrow will be a good day\",\n",
    "    \"I like coffee, I like book and I like apple\",\n",
    "    \"I do not like it\",\n",
    "    \"I am kitty, I like bob\",\n",
    "    \"I do not care who like bob, but I like kitty\",\n",
    "    \"It is coffee time, bring your cup\",\n",
    "]"
   ]
  },
  {
   "cell_type": "code",
   "execution_count": 12,
   "metadata": {},
   "outputs": [
    {
     "name": "stdout",
     "output_type": "stream",
     "text": [
      "  (0, 20)\t0.39027579919573646\n",
      "  (0, 29)\t0.4494547871352568\n",
      "  (0, 37)\t0.39027579919573646\n",
      "  (0, 24)\t0.2891086511023749\n",
      "  (0, 13)\t0.34828763904189525\n",
      "  (0, 16)\t0.34828763904189525\n",
      "  (0, 21)\t0.2891086511023749\n",
      "  (0, 22)\t0.2891086511023749\n",
      "  (1, 4)\t0.4418268390001995\n",
      "  (1, 17)\t0.5088227050785766\n",
      "  (1, 0)\t0.39429251554372097\n",
      "  (1, 20)\t0.4418268390001995\n",
      "  (1, 37)\t0.4418268390001995\n",
      "  (2, 5)\t0.7071067811865476\n",
      "  (2, 0)\t0.7071067811865476\n",
      "  (3, 38)\t0.4973094839080832\n",
      "  (3, 31)\t0.6417630233594512\n",
      "  (3, 21)\t0.4128095802325887\n",
      "  (3, 22)\t0.4128095802325887\n",
      "  (4, 28)\t0.620115518343534\n",
      "  (4, 19)\t0.620115518343534\n",
      "  (4, 38)\t0.48053458545567784\n",
      "  (5, 10)\t0.38162265674299134\n",
      "  (5, 32)\t0.4394895361328521\n",
      "  (5, 1)\t0.34056545242061237\n",
      "  :\t:\n",
      "  (10, 1)\t0.2912636525059964\n",
      "  (10, 24)\t0.7253215352931054\n",
      "  (11, 26)\t0.5681899703373324\n",
      "  (11, 14)\t0.5681899703373324\n",
      "  (11, 24)\t0.42090397670734975\n",
      "  (11, 22)\t0.42090397670734975\n",
      "  (12, 23)\t0.5641923784960654\n",
      "  (12, 5)\t0.5034932524044976\n",
      "  (12, 0)\t0.5034932524044976\n",
      "  (12, 24)\t0.417942639142304\n",
      "  (13, 8)\t0.36472230080469276\n",
      "  (13, 41)\t0.36472230080469276\n",
      "  (13, 9)\t0.36472230080469276\n",
      "  (13, 23)\t0.3166999028719288\n",
      "  (13, 26)\t0.3166999028719288\n",
      "  (13, 14)\t0.3166999028719288\n",
      "  (13, 5)\t0.28262746930086\n",
      "  (13, 24)\t0.4692101427361921\n",
      "  (14, 12)\t0.42327599893553286\n",
      "  (14, 43)\t0.42327599893553286\n",
      "  (14, 7)\t0.42327599893553286\n",
      "  (14, 36)\t0.42327599893553286\n",
      "  (14, 11)\t0.3675439298752557\n",
      "  (14, 21)\t0.27226932852633273\n",
      "  (14, 22)\t0.27226932852633273\n",
      "idf:  [('am', 2.386294361119891), ('and', 2.386294361119891), ('apple', 3.0794415416798357), ('are', 3.0794415416798357), ('be', 2.6739764335716716), ('bob', 2.386294361119891), ('book', 3.0794415416798357), ('bring', 3.0794415416798357), ('but', 3.0794415416798357), ('care', 3.0794415416798357), ('cat', 2.6739764335716716), ('coffee', 2.6739764335716716), ('cup', 3.0794415416798357), ('day', 2.386294361119891), ('do', 2.6739764335716716), ('dog', 2.6739764335716716), ('good', 2.386294361119891), ('happy', 3.0794415416798357), ('hard', 3.0794415416798357), ('have', 3.0794415416798357), ('here', 2.6739764335716716), ('is', 1.9808292530117262), ('it', 1.9808292530117262), ('kitty', 2.6739764335716716), ('like', 1.9808292530117262), ('morning', 3.0794415416798357), ('not', 2.6739764335716716), ('on', 3.0794415416798357), ('party', 3.0794415416798357), ('stay', 3.0794415416798357), ('study', 3.0794415416798357), ('sunny', 3.0794415416798357), ('that', 3.0794415416798357), ('the', 3.0794415416798357), ('there', 3.0794415416798357), ('this', 3.0794415416798357), ('time', 3.0794415416798357), ('to', 2.6739764335716716), ('today', 2.386294361119891), ('tomorrow', 3.0794415416798357), ('tree', 3.0794415416798357), ('who', 3.0794415416798357), ('will', 3.0794415416798357), ('your', 3.0794415416798357)]\n",
      "--------------------\n",
      "v2i:  {'it': 22, 'is': 21, 'good': 16, 'day': 13, 'like': 24, 'to': 37, 'stay': 29, 'here': 20, 'am': 0, 'happy': 17, 'be': 4, 'bob': 5, 'sunny': 31, 'today': 38, 'have': 19, 'party': 28, 'dog': 15, 'and': 1, 'that': 32, 'cat': 10, 'there': 34, 'are': 3, 'on': 27, 'the': 33, 'tree': 40, 'study': 30, 'hard': 18, 'this': 35, 'morning': 25, 'tomorrow': 39, 'will': 42, 'coffee': 11, 'book': 6, 'apple': 2, 'do': 14, 'not': 26, 'kitty': 23, 'care': 9, 'who': 41, 'but': 8, 'time': 36, 'bring': 7, 'your': 43, 'cup': 12}\n"
     ]
    }
   ],
   "source": [
    "vectorizer = TfidfVectorizer()\n",
    "tf_idf = vectorizer.fit_transform(docs)\n",
    "print(tf_idf)\n",
    "print(\"--------------------\")\n",
    "# print(vectorizer.idf_)\n",
    "# print(vectorizer.get_feature_names())\n",
    "print(\"idf: \", [(n, idf) for idf, n in zip(vectorizer.idf_, vectorizer.get_feature_names())])\n",
    "print(\"--------------------\")\n",
    "print(\"v2i: \", vectorizer.vocabulary_)"
   ]
  },
  {
   "cell_type": "code",
   "execution_count": 13,
   "metadata": {},
   "outputs": [
    {
     "name": "stdout",
     "output_type": "stream",
     "text": [
      "  (0, 12)\t0.7550665514877668\n",
      "  (0, 11)\t0.6556481547479347\n",
      "[[0.        ]\n",
      " [0.        ]\n",
      " [0.        ]\n",
      " [0.        ]\n",
      " [0.        ]\n",
      " [0.        ]\n",
      " [0.        ]\n",
      " [0.        ]\n",
      " [0.        ]\n",
      " [0.        ]\n",
      " [0.21398863]\n",
      " [0.        ]\n",
      " [0.        ]\n",
      " [0.        ]\n",
      " [0.56058105]]\n"
     ]
    }
   ],
   "source": [
    "q = \"I get a coffee cup\"\n",
    "qtf_idf = vectorizer.transform([q])\n",
    "print(qtf_idf )\n",
    "print(\"--------------------\")\n",
    "res = cosine_similarity(tf_idf, qtf_idf)\n",
    "print(res)"
   ]
  },
  {
   "cell_type": "code",
   "execution_count": 27,
   "metadata": {},
   "outputs": [
    {
     "name": "stdout",
     "output_type": "stream",
     "text": [
      "\n",
      "top 3 docs for 'I get a coffee cup':\n",
      "['It is coffee time, bring your cup', 'I like coffee, I like book and I like apple', 'I do not care who like bob, but I like kitty']\n"
     ]
    }
   ],
   "source": [
    "res = res.ravel().argsort()[-3:]\n",
    "print(\"\\ntop 3 docs for '{}':\\n{}\".format(q, [docs[i] for i in res[::-1]]))"
   ]
  }
 ],
 "metadata": {
  "interpreter": {
   "hash": "4d3593a80be820cdf314fea8afd1a1ec4a7f92fb380d0e4bb4412761316907ff"
  },
  "kernelspec": {
   "display_name": "Python 3.6.12 ('kt')",
   "language": "python",
   "name": "python3"
  },
  "language_info": {
   "codemirror_mode": {
    "name": "ipython",
    "version": 3
   },
   "file_extension": ".py",
   "mimetype": "text/x-python",
   "name": "python",
   "nbconvert_exporter": "python",
   "pygments_lexer": "ipython3",
   "version": "3.6.12"
  },
  "orig_nbformat": 4
 },
 "nbformat": 4,
 "nbformat_minor": 2
}
